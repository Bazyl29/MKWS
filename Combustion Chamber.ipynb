{
 "cells": [
  {
   "cell_type": "markdown",
   "metadata": {},
   "source": [
    "# Gas turbine combastion chamber model using Cantera constant volume reactor net"
   ]
  },
  {
   "cell_type": "code",
   "execution_count": null,
   "metadata": {
    "collapsed": true
   },
   "outputs": [],
   "source": []
  },
  {
   "cell_type": "markdown",
   "metadata": {},
   "source": [
    "Sources: </br>\n",
    "* Cantera documentation and code examples\n",
    "<ol>\n",
    "https://www.cantera.org/docs/sphinx/html/reactors.html\n",
    "https://www.cantera.org/docs/sphinx/html/cython/examples/reactors_combustor.html#py-example-combustor-py\n",
    "https://www.cantera.org/docs/sphinx/html/cython/examples/reactors_pfr.html#py-example-pfr-py\n",
    "</ol>\n",
    "* CERFACS tutorials\n",
    "<ol>\n",
    "http://www.cerfacs.fr/cantera/docs/tutorials/CANTERA_HandsOn.pdf\n",
    "</ol>\n",
    "* \"Prediction of emissions from combustion systems using 0D and 1D reacting flow models\", B.Rosati\n",
    "<ol>\n",
    "https://repository.tudelft.nl/islandora/object/uuid:e4123ab3-0d3d-48cc-8b71-ada6badc83e7\n",
    "</ol>\n",
    "* \"Water Injection in Gas Turbines - Kinetic Modeling with Cantera\", S. M. Reiz\n",
    "<ol>\n",
    "https://www5.in.tum.de/pub/Reiz2014_BThesis.pdf\n",
    "</ol>\n",
    "* \"Chemical Reactor Modeling of Oxy - Fuel Combustion Chamber for Semiclosed Combined Cycle\", V. P. Timón, G. Corchero, J. L. Montañés\n",
    "<ol>\n",
    "https://pubs.acs.org/doi/10.1021/acs.energyfuels.7b01311\n",
    "</ol>"
   ]
  },
  {
   "cell_type": "markdown",
   "metadata": {},
   "source": [
    "Importing neccesery libraries"
   ]
  },
  {
   "cell_type": "code",
   "execution_count": 1,
   "metadata": {
    "collapsed": true
   },
   "outputs": [],
   "source": [
    "import math\n",
    "import cantera as ct\n",
    "import numpy as np\n",
    "import matplotlib.pyplot as plt"
   ]
  },
  {
   "cell_type": "markdown",
   "metadata": {},
   "source": [
    "Model inputs"
   ]
  },
  {
   "cell_type": "code",
   "execution_count": 2,
   "metadata": {
    "collapsed": true
   },
   "outputs": [],
   "source": [
    "#thermodynamic parameters\n",
    "\n",
    "T0_air = 700.0 #air temperature [K]\n",
    "T0_ch4 = 300.0 #methane temperature [K]\n",
    "p0 = 2500000.0 #inlet preassure[Pa]\n",
    "eqv = 0.6 #equivalence ratio\n",
    "ftar = 1 / 17.2 #fuel to air ratio\n",
    "X = 0.2 #mixer/DZ air injection ratio\n",
    "air_mf1 = X * 100.0 #air mass flow [kg/s]\n",
    "air_mf2 = (1 - X) * 100.0 #air mass flow to DZ[kg/s]\n",
    "ch4_mf = ftar*eqv*air_mf1\n",
    "\n",
    "#internal parameters\n",
    "\n",
    "Kv = 50.0 #valve coefficient\n",
    "N = 2000 #number of steps\n",
    "\n",
    "#geometrical parameters\n",
    "\n",
    "Dc = 0.3 #combustor diameter [m]\n",
    "D = 0.1 #mixing tube diameter [m]\n",
    "Dh_SZ = 0.01 #dilution holes diameter SZ [m]\n",
    "Dh_DZ = 0.01 #dilution holes diameter DZ [m]\n",
    "mixer_length = 0.1 #[m]\n",
    "PZ_length = 0.1 #[m]\n",
    "SZ_length = 0.4 #[m]\n",
    "DZ_length = 0.4 #[m]\n",
    "Lc = mixer_length + PZ_length + SZ_length + DZ_length\n",
    "\n",
    "mixer_vol = mixer_length * D**2 * math.pi / 4\n",
    "PZ_vol = PZ_length* Dc**2 * math.pi / 4\n",
    "SZ_vol = SZ_length* Dc**2 * math.pi / 4 / N\n",
    "DZ_vol = DZ_length* Dc**2 * math.pi / 4 / N\n",
    "\n",
    "#igniter\n",
    "fwhm = 0.2\n",
    "amplitude = 0.1\n",
    "t0 = 0.2\n",
    "igniter_mdot = lambda t: amplitude * math.exp(-(t-t0)**2 * 4 * math.log(2) / fwhm**2)"
   ]
  },
  {
   "cell_type": "markdown",
   "metadata": {},
   "source": [
    "Setting up gas reservoirs and parameters"
   ]
  },
  {
   "cell_type": "code",
   "execution_count": 3,
   "metadata": {
    "collapsed": true
   },
   "outputs": [],
   "source": [
    "air = ct.Solution('air.xml')\n",
    "air.TP = T0_air, p0, \n",
    "air_res = ct.Reservoir(air)\n",
    "\n",
    "air.TP = 300.0, ct.one_atm\n",
    "env = ct.Reservoir(air)\n",
    "\n",
    "ch4 = ct.Solution('gri30.xml')\n",
    "ch4.TPX = T0_ch4, p0, 'CH4:1.0'\n",
    "ch4_res = ct.Reservoir(ch4)\n",
    "\n",
    "upstream_gas = ct.Solution('gri30.xml')\n",
    "upstream_gas.TPX = 300.0, p0, 'N2:1.0'\n",
    "upstream = ct.Reservoir(upstream_gas)\n",
    "\n",
    "downstream_gas = ct.Solution('gri30.xml')\n",
    "downstream_gas.TPX = 300.0, p0, 'N2:1.0'\n",
    "downstream = ct.Reservoir(downstream_gas)\n",
    "\n",
    "h = ct.Solution('gri30.xml')\n",
    "h.TPX = 300.0, p0, 'H:1.0'\n",
    "igniter = ct.Reservoir(h)"
   ]
  },
  {
   "cell_type": "markdown",
   "metadata": {},
   "source": [
    "Setting up reactors"
   ]
  },
  {
   "cell_type": "code",
   "execution_count": 4,
   "metadata": {
    "collapsed": true
   },
   "outputs": [],
   "source": [
    "mixer = ct.IdealGasReactor(downstream_gas,energy = 'on')\n",
    "mixer.volume = mixer_vol\n",
    "\n",
    "PZ = ct.IdealGasReactor(downstream_gas, energy = 'on')\n",
    "PZ.volume = PZ_vol\n",
    "\n",
    "SZ = ct.IdealGasReactor(downstream_gas, energy = 'on')\n",
    "SZ.volume = SZ_vol\n",
    "\n",
    "DZ = ct.IdealGasReactor(downstream_gas, energy = 'on')\n",
    "DZ.volume = DZ_vol"
   ]
  },
  {
   "cell_type": "markdown",
   "metadata": {},
   "source": [
    "Setting up flow devices and walls"
   ]
  },
  {
   "cell_type": "code",
   "execution_count": 5,
   "metadata": {},
   "outputs": [],
   "source": [
    "air_mfc1 = ct.MassFlowController(air_res, mixer, mdot = air_mf1)\n",
    "ch4_mfc = ct.MassFlowController(ch4_res, mixer, mdot = ch4_mf)\n",
    "SZ_mfc = ct.MassFlowController(upstream, SZ, mdot = air_mf1 + ch4_mf)\n",
    "DZ_mfc = ct.MassFlowController(upstream, DZ, mdot = air_mf1 + ch4_mf)\n",
    "igniter_mfc = ct.MassFlowController(igniter, PZ, mdot = igniter_mdot)\n",
    "\n",
    "holes_number_SZ = math.floor(SZ_length / 0.25)\n",
    "holes_number_DZ = math.floor(DZ_length / 0.1)\n",
    "norph_SZ = Dh_SZ / (SZ_length / N) #number of reactors per hole SZ\n",
    "norph_DZ = Dh_DZ / (DZ_length / N) #number of reactors per hole DZ\n",
    "dilution_air_mf = air_mf2 / (holes_number_SZ * norph_SZ + holes_number_DZ * norph_DZ)\n",
    "\n",
    "SZ_air_mfc = ct.MassFlowController(air_res, SZ, mdot = 0.0)\n",
    "DZ_air_mfc = ct.MassFlowController(air_res, DZ, mdot = 0.0)\n",
    "\n",
    "mixer_v = ct.Valve(mixer, PZ, K = Kv)\n",
    "PZ_v = ct.Valve(PZ, upstream, K = Kv)\n",
    "SZ_v = ct.Valve(SZ, downstream, K = Kv)\n",
    "DZ_v = ct.Valve(DZ,downstream, K = Kv)\n",
    "\n",
    "PZ_wall = ct.Wall(PZ, env, A = PZ_length*D*math.pi, U = 20000.0)\n",
    "SZ_wall = ct.Wall(SZ, env, A = SZ_length/N*D*math.pi, U = 20000.0)\n",
    "DZ_wall = ct.Wall(DZ, env, A = DZ_length/N*D*math.pi, U = 20000.0)"
   ]
  },
  {
   "cell_type": "markdown",
   "metadata": {},
   "source": [
    "Iteration of CSTR net"
   ]
  },
  {
   "cell_type": "code",
   "execution_count": 12,
   "metadata": {},
   "outputs": [],
   "source": [
    "sim = ct.ReactorNet([mixer, PZ])\n",
    "\n",
    "sim.advance_to_steady_state()\n",
    "\n",
    "upstream_gas.TDY = PZ.thermo.TDY\n",
    "upstream.syncState()\n",
    "\n",
    "#print(mixer.thermo.report())\n",
    "#print(PZ.thermo.report())\n",
    "#print(upstream.thermo.report())"
   ]
  },
  {
   "cell_type": "markdown",
   "metadata": {},
   "source": [
    "Iteration of first PFR net"
   ]
  },
  {
   "cell_type": "code",
   "execution_count": 7,
   "metadata": {},
   "outputs": [],
   "source": [
    "dz = SZ_length / N\n",
    "mass_flow_rate2 = air_mf1 + ch4_mf\n",
    "\n",
    "sim2 = ct.ReactorNet([SZ])\n",
    "\n",
    "z2 = (np.arange(N) + 1) * dz + (mixer_length + PZ_length)\n",
    "i = 0\n",
    "a = 0\n",
    "t_SZ = np.zeros_like(z2)  # residence time in each reactor\n",
    "u2 = np.zeros_like(z2)\n",
    "t2 = np.zeros_like(z2)\n",
    "states2 = ct.SolutionArray(SZ.thermo)\n",
    "# iterate through the PFR cells\n",
    "for n in range(N):\n",
    "    if z2[n] >= ((2 * i + 1) * 0.125 - Dh_SZ / 2) and z2[n] <= ((2 * i + 1) * 0.125 + Dh_SZ / 2):\n",
    "        SZ_air_mfc.set_mass_flow_rate(dilution_air_mf)\n",
    "        mass_flow_rate2 += dilution_air_mf\n",
    "        sim2.reinitialize()\n",
    "        sim2.advance_to_steady_state()\n",
    "        u2[n] = mass_flow_rate2 / (Dc**2 * math.pi / 4) / SZ.thermo.density\n",
    "        t_SZ[n] = SZ.mass / mass_flow_rate2  # residence time in this reactor\n",
    "        t2[n] = np.sum(t_SZ)\n",
    "        states2.append(SZ.thermo.state)\n",
    "        upstream_gas.TDY = SZ.thermo.TDY\n",
    "        upstream.syncState()\n",
    "        a += 1\n",
    "        if a == norph_SZ:\n",
    "            i +=1\n",
    "    else:\n",
    "        SZ_air_mfc.set_mass_flow_rate(0.0)\n",
    "        # integrate the reactor forward in time until steady state is reached\n",
    "        sim2.reinitialize()\n",
    "        sim2.advance_to_steady_state()\n",
    "        # compute velocity and transform into time\n",
    "        u2[n] = mass_flow_rate2 / (Dc**2 * math.pi / 4) / SZ.thermo.density\n",
    "        t_SZ[n] = SZ.mass / mass_flow_rate2  # residence time in this reactor\n",
    "        t2[n] = np.sum(t_SZ)\n",
    "        # write output data\n",
    "        states2.append(SZ.thermo.state)\n",
    "        # Set the state of the reservoir to match that of the previous reactor\n",
    "        upstream_gas.TDY = SZ.thermo.TDY\n",
    "        upstream.syncState()  "
   ]
  },
  {
   "cell_type": "markdown",
   "metadata": {},
   "source": [
    "Plotting secondary zone calculation results"
   ]
  },
  {
   "cell_type": "code",
   "execution_count": 8,
   "metadata": {},
   "outputs": [
    {
     "data": {
      "image/png": "[encoded data removed]",
      "text/plain": [
       "<matplotlib.figure.Figure at 0x7f0f15f05eb8>"
      ]
     },
     "metadata": {},
     "output_type": "display_data"
    }
   ],
   "source": [
    "plt.figure()\n",
    "plt.plot(z2, states2.T)\n",
    "plt.xlabel('$z$ [m]')\n",
    "plt.ylabel('$T$ [K]')\n",
    "plt.axis([mixer_length + PZ_length, Lc - DZ_length, 0, 3000])\n",
    "plt.show()\n",
    "#plt.savefig('PZ_T_z.png')"
   ]
  },
  {
   "cell_type": "markdown",
   "metadata": {},
   "source": [
    "Iteration of second PFR net"
   ]
  },
  {
   "cell_type": "code",
   "execution_count": 14,
   "metadata": {},
   "outputs": [],
   "source": [
    "dz = DZ_length / N\n",
    "\n",
    "sim3 = ct.ReactorNet([DZ])\n",
    "\n",
    "z3 = (np.arange(N) + 1) * dz + (mixer_length + PZ_length + SZ_length)\n",
    "i = 0\n",
    "a = 0\n",
    "t_DZ = np.zeros_like(z3)  # residence time in each reactor\n",
    "u3 = np.zeros_like(z3)\n",
    "t3 = np.zeros_like(z3)\n",
    "states3 = ct.SolutionArray(DZ.thermo)\n",
    "\n",
    "for n in range(N):\n",
    "    if z3[n] >= ((2 * i + 1) * 0.125 - Dh_SZ / 2) and z3[n] <= ((2 * i + 1) * 0.125 + Dh_SZ / 2):\n",
    "        DZ_air_mfc.set_mass_flow_rate(dilution_air_mf)\n",
    "        mass_flow_rate2 += dilution_air_mf\n",
    "        sim3.reinitialize()\n",
    "        sim3.advance_to_steady_state()\n",
    "        u3[n] = mass_flow_rate2 / (Dc**2 * math.pi / 4) / DZ.thermo.density\n",
    "        t_DZ[n] = DZ.mass / mass_flow_rate2  # residence time in this reactor\n",
    "        t3[n] = np.sum(t_SZ)\n",
    "        states2.append(DZ.thermo.state)\n",
    "        upstream_gas.TDY = DZ.thermo.TDY\n",
    "        upstream.syncState()\n",
    "        a += 1\n",
    "        if a == norph_SZ:\n",
    "            i +=1\n",
    "    else:\n",
    "        DZ_air_mfc.set_mass_flow_rate(0.0)\n",
    "        # integrate the reactor forward in time until steady state is reached\n",
    "        sim3.reinitialize()\n",
    "        sim3.advance_to_steady_state()\n",
    "        # compute velocity and transform into time\n",
    "        u3[n] = mass_flow_rate2 / (Dc**2 * math.pi / 4) / DZ.thermo.density\n",
    "        t_DZ[n] = DZ.mass / mass_flow_rate2  # residence time in this reactor\n",
    "        t3[n] = np.sum(t_DZ)\n",
    "        # write output data\n",
    "        states3.append(DZ.thermo.state)\n",
    "        # Set the state of the reservoir to match that of the previous reactor\n",
    "        upstream_gas.TDY = DZ.thermo.TDY\n",
    "        upstream.syncState()  \n",
    "downstream_gas.TDY = DZ.thermo.TDY\n",
    "downstream.syncState()\n",
    "#print(downstream.thermo.report())"
   ]
  },
  {
   "cell_type": "markdown",
   "metadata": {},
   "source": [
    "Plotting dilution zone calculation results"
   ]
  },
  {
   "cell_type": "code",
   "execution_count": 16,
   "metadata": {},
   "outputs": [
    {
     "data": {
      "image/png": "[encoded data removed]",
      "text/plain": [
       "<matplotlib.figure.Figure at 0x7f0f0e640f60>"
      ]
     },
     "metadata": {},
     "output_type": "display_data"
    }
   ],
   "source": [
    "plt.figure()\n",
    "plt.plot(z3, states3.T)\n",
    "plt.xlabel('$z$ [m]')\n",
    "plt.ylabel('$T$ [K]')\n",
    "plt.axis([Lc - DZ_length, Lc, 0, 3000])\n",
    "plt.show()\n",
    "#plt.savefig('DZ_T_z.png')"
   ]
  },
  {
   "cell_type": "code",
   "execution_count": null,
   "metadata": {
    "collapsed": true
   },
   "outputs": [],
   "source": []
  }
 ],
 "metadata": {
  "kernelspec": {
   "display_name": "Python 3",
   "language": "python",
   "name": "python3"
  },
  "language_info": {
   "codemirror_mode": {
    "name": "ipython",
    "version": 3
   },
   "file_extension": ".py",
   "mimetype": "text/x-python",
   "name": "python",
   "nbconvert_exporter": "python",
   "pygments_lexer": "ipython3",
   "version": "3.6.3"
  }
 },
 "nbformat": 4,
 "nbformat_minor": 2
}
