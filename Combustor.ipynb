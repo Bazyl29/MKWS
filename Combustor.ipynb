{
 "cells": [
  {
   "cell_type": "markdown",
   "metadata": {},
   "source": [
    "# Gas turbine combustor in Cantera using constant volume reactor"
   ]
  },
  {
   "cell_type": "markdown",
   "metadata": {},
   "source": [
    "Description:"
   ]
  },
  {
   "cell_type": "markdown",
   "metadata": {},
   "source": [
    "What to explain in my paper:\n",
    "GRI 3.0 Mechanism\n",
    "PFR,CSTR Reactor\n",
    "Gas Turbine Combustor\n",
    "How does Cantera calculate\n",
    "CO2 - O2 - CH4 Turbine Cycle\n",
    "Data outcome"
   ]
  },
  {
   "cell_type": "markdown",
   "metadata": {},
   "source": [
    "Sources:\n",
    "-Cantera documentation and code examples:\n",
    "https://www.cantera.org/docs/sphinx/html/reactors.html\n",
    "https://www.cantera.org/docs/sphinx/html/cython/examples/reactors_combustor.html#py-example-combustor-py\n",
    "https://www.cantera.org/docs/sphinx/html/cython/examples/reactors_pfr.html#py-example-pfr-py\n",
    "-cerfacs tutorial\n",
    "http://www.cerfacs.fr/cantera/docs/tutorials/CANTERA_HandsOn.pdf"
   ]
  },
  {
   "cell_type": "markdown",
   "metadata": {},
   "source": [
    "Importing necessery libraries"
   ]
  },
  {
   "cell_type": "code",
   "execution_count": 1,
   "metadata": {
    "collapsed": true
   },
   "outputs": [],
   "source": [
    "import math\n",
    "import csv\n",
    "import cantera as ct\n",
    "import numpy as np\n",
    "import matplotlib.pyplot as plt"
   ]
  },
  {
   "cell_type": "markdown",
   "metadata": {},
   "source": [
    "Model inputs"
   ]
  },
  {
   "cell_type": "code",
   "execution_count": 2,
   "metadata": {},
   "outputs": [],
   "source": [
    "#thermodynamic parameters\n",
    "\n",
    "T0_o2 = 300.0 #oxygen temperature [K]\n",
    "T0_ch4 = 300.0 #methane temperature [K]\n",
    "T0_co2 = 600.0 #carbon dioxide temperature [K]\n",
    "p0 = 100000.0 #inlet preassure[Pa]\n",
    "eqv = 0.8 #equivalence ratio\n",
    "ftor = 0.25 #fuel to oxygen ratio\n",
    "o2_mf = 45.0 #oxygen mass flow [kg/s]\n",
    "co2_mf = 200.0 #carbon dioxide mass flow [kg/s]\n",
    "ch4_mf = ftor*eqv*o2_mf\n",
    "X = 0.2 #mixer/DZ co2 injection ratio\n",
    "\n",
    "#geometrical parameters\n",
    "\n",
    "Lc = 3.0 #combustor length [m]\n",
    "Dc = 1.0 #combustor diameter [m]\n",
    "D = 0.3 #mixing tube diameter [m]\n",
    "Df = 0.1 #fuel port diameter [m]\n",
    "mixer_length = 0.15 #[m]\n",
    "PZ_length = 0.45 #[m]\n",
    "SZ_length = 1.2 #[m]\n",
    "\n",
    "#internal parameters\n",
    "\n",
    "Kv = 500.0 #valve coefficient\n",
    "dt = 1.0 #iteration step time [s]\n",
    "N = 100000 #number of steps"
   ]
  },
  {
   "cell_type": "markdown",
   "metadata": {
    "collapsed": true
   },
   "source": [
    "Fuel, oxidizer, operating gas and igniter compositions"
   ]
  },
  {
   "cell_type": "code",
   "execution_count": 3,
   "metadata": {},
   "outputs": [],
   "source": [
    "ch4 = ct.Solution('gri30.xml')\n",
    "ch4.TPX = T0_ch4, p0, 'CH4:1.0'\n",
    "\n",
    "o2 = ct.Solution('gri30.xml')\n",
    "o2.TPX = T0_o2, p0, 'O2:1.0'\n",
    "\n",
    "co2 = ct.Solution('gri30.xml')\n",
    "co2.TPX = T0_co2, p0, 'CO2:1.0'\n",
    "\n",
    "h = ct.Solution('gri30.xml')\n",
    "h.TPX = 300.0, p0, 'H:1.0'"
   ]
  },
  {
   "cell_type": "markdown",
   "metadata": {},
   "source": [
    "Creation of reservoirs"
   ]
  },
  {
   "cell_type": "code",
   "execution_count": 4,
   "metadata": {},
   "outputs": [],
   "source": [
    "res_ch4 = ct.Reservoir(ch4)\n",
    "res_o2 = ct.Reservoir(o2)\n",
    "res_co2 = ct.Reservoir(co2)\n",
    "res_igniter = ct.Reservoir(h)\n",
    "res_exhaust = ct.Reservoir(co2)"
   ]
  },
  {
   "cell_type": "markdown",
   "metadata": {},
   "source": [
    "Setting up a reactor network (CSTR cluster)"
   ]
  },
  {
   "cell_type": "code",
   "execution_count": 5,
   "metadata": {},
   "outputs": [],
   "source": [
    "mixer_vol = mixer_length * D**2 * math.pi / 4\n",
    "PZ_vol = PZ_length * Dc**2 * math.pi / 4\n",
    "\n",
    "mixer = ct.IdealGasReactor(co2, energy = 'on')\n",
    "mixer.volume = mixer_vol\n",
    "\n",
    "PZ = ct.IdealGasReactor(co2, energy = 'on')\n",
    "PZ_volume = PZ_vol\n",
    "\n",
    "SZ = ct.IdealGasReactor(co2, energy = 'on')\n",
    "\n",
    "ch4_mfc = ct.MassFlowController(res_ch4, mixer, mdot = ch4_mf)\n",
    "o2_mfc = ct.MassFlowController(res_o2, mixer, mdot = o2_mf)\n",
    "co2_mfc = ct.MassFlowController(res_co2, mixer, mdot = X*co2_mf)\n",
    "\n",
    "mixer_v = ct.Valve(mixer, PZ, K = Kv)\n",
    "PZ_v = ct.Valve(PZ, SZ, K = Kv)\n",
    "\n",
    "#igniter\n",
    "fwhm = 0.2\n",
    "amplitude = 0.1\n",
    "t0 = 1.0\n",
    "igniter_mdot = lambda t: amplitude * math.exp(-(t-t0)**2 * 4 * math.log(2) / fwhm**2)\n",
    "igniter_mfc = ct.MassFlowController(res_igniter, PZ, mdot = igniter_mdot)"
   ]
  },
  {
   "cell_type": "markdown",
   "metadata": {},
   "source": [
    "Iteration of the CSTR cluster"
   ]
  },
  {
   "cell_type": "code",
   "execution_count": 6,
   "metadata": {
    "scrolled": false
   },
   "outputs": [
    {
     "name": "stdout",
     "output_type": "stream",
     "text": [
      "\n",
      "  gri30:\n",
      "\n",
      "       temperature          417.24  K\n",
      "          pressure          100000  Pa\n",
      "           density        0.942089  kg/m^3\n",
      "  mean mol. weight         32.6821  amu\n",
      "\n",
      "                          1 kg            1 kmol\n",
      "                       -----------      ------------\n",
      "          enthalpy     -4.1241e+06       -1.348e+08     J\n",
      "   internal energy     -4.2302e+06       -1.383e+08     J\n",
      "           entropy          6869.2        2.245e+05     J/K\n",
      "    Gibbs function     -6.9902e+06       -2.285e+08     J\n",
      " heat capacity c_p          1105.8        3.614e+04     J/K\n",
      " heat capacity c_v          851.41        2.783e+04     J/K\n",
      "\n",
      "                           X                 Y          Chem. Pot. / RT\n",
      "                     -------------     ------------     ------------\n",
      "                O2       0.488946         0.478723         -25.5828\n",
      "               CH4        0.19505        0.0957447          -45.794\n",
      "               CO2       0.316004         0.425532         -140.545\n",
      "     [  +50 minor]    -1.4033e-24     -1.45337e-24\n",
      "\n",
      "\n",
      "  gri30:\n",
      "\n",
      "       temperature         2650.55  K\n",
      "          pressure          100000  Pa\n",
      "           density        0.137538  kg/m^3\n",
      "  mean mol. weight         30.3105  amu\n",
      "\n",
      "                          1 kg            1 kmol\n",
      "                       -----------      ------------\n",
      "          enthalpy     -4.1241e+06        -1.25e+08     J\n",
      "   internal energy     -4.8511e+06        -1.47e+08     J\n",
      "           entropy           10077        3.055e+05     J/K\n",
      "    Gibbs function     -3.0835e+07       -9.346e+08     J\n",
      " heat capacity c_p          1729.3        5.242e+04     J/K\n",
      " heat capacity c_v            1455         4.41e+04     J/K\n",
      "\n",
      "                           X                 Y          Chem. Pot. / RT\n",
      "                     -------------     ------------     ------------\n",
      "                H2      0.0121445      0.000807704         -24.8365\n",
      "                 H     0.00581746      0.000193453          -12.309\n",
      "                 O      0.0117725       0.00621414          -15.823\n",
      "                O2       0.130517         0.137787          -31.855\n",
      "                OH      0.0382202        0.0214455         -28.3528\n",
      "               H2O       0.327532         0.194671         -40.8815\n",
      "               HO2    2.63242e-05      2.86659e-05         -44.3267\n",
      "              H2O2     1.0976e-06      1.23174e-06         -56.8398\n",
      "                 C    1.65241e-08      6.54792e-09          -7.6747\n",
      "                CH    1.51128e-07      6.49124e-08         -15.5193\n",
      "               CH2    1.06789e-06      4.94189e-07         -25.8143\n",
      "            CH2(S)     2.7182e-07      1.25791e-07         -24.6986\n",
      "               CH3    1.51847e-05        7.532e-06         -35.8971\n",
      "               CH4    2.53289e-05      1.34061e-05         -45.8019\n",
      "                CO      0.0933836        0.0862973         -36.1001\n",
      "               CO2       0.380535         0.552524         -52.1487\n",
      "               HCO    1.26501e-06      1.21108e-06         -45.4007\n",
      "              CH2O    6.15987e-06      6.10212e-06          -51.423\n",
      "             CH2OH     3.1851e-07      3.26115e-07         -55.5489\n",
      "              CH3O    1.89716e-08      1.94246e-08         -54.5089\n",
      "             CH3OH    3.44068e-08      3.63725e-08         -66.6723\n",
      "               C2H    3.26857e-11      2.69913e-11         -31.8465\n",
      "              C2H2    8.32315e-10      7.14991e-10         -44.2088\n",
      "              C2H3     2.1186e-10      1.89041e-10         -47.3553\n",
      "              C2H4     7.9987e-10      7.40317e-10         -56.9408\n",
      "              C2H5    1.11466e-10      1.06873e-10         -61.0546\n",
      "              C2H6    6.69088e-12      6.63771e-12         -72.5141\n",
      "              HCCO    1.09886e-08      1.48745e-08         -49.7985\n",
      "             CH2CO    7.07091e-09      9.80657e-09         -61.5976\n",
      "             HCCOH    8.17027e-11      1.13313e-10          -60.291\n",
      "            CH2CHO    1.47783e-11      2.09873e-11         -68.9891\n",
      "            CH3CHO    2.43767e-10      3.54291e-10         -75.9325\n",
      "     [  +21 minor]    3.77382e-16      5.36907e-16\n",
      "\n"
     ]
    }
   ],
   "source": [
    "sim = ct.ReactorNet([mixer, PZ])\n",
    "\n",
    "#print('{0:>14s} {1:>14s} {2:>14s}  {3:>14s}  {4:>14s}'.format(\n",
    "#'t [s]', 'T [K]', 'h [J/kg]', 'P [Pa]', 'X_CH4'))\n",
    "t = 0.0\n",
    "\n",
    "for n in range(150):\n",
    "  t += 0.01\n",
    "  sim.advance(t)\n",
    "  #print('{0:14.5g} {1:14.5g} {2:14.5g}  {3:14.5g}  {4:14.5g}'.format(\n",
    "  #t, PZ.T, PZ.thermo.h, PZ.thermo.P, PZ.thermo['CH4'].X[0]))\n",
    "\n",
    "print(mixer.thermo.report())\n",
    "print(PZ.thermo.report())"
   ]
  },
  {
   "cell_type": "markdown",
   "metadata": {},
   "source": [
    "Setting up a reactor network (PFR cluster)"
   ]
  },
  {
   "cell_type": "code",
   "execution_count": 7,
   "metadata": {},
   "outputs": [],
   "source": [
    "mass_flow_rate2 = ch4_mfc.mdot(t) + co2_mfc.mdot(t) + o2_mfc.mdot(t)\n",
    "dz = SZ_length / N\n",
    "\n",
    "SZ_vol = SZ_length * Dc**2 * math.pi / 4 / N\n",
    "SZ_volume = SZ_vol\n",
    "\n",
    "upstream = ct.Reservoir(co2)\n",
    "\n",
    "downstream = ct.Reservoir(co2)\n",
    "\n",
    "m = ct.MassFlowController(upstream, SZ, mdot=mass_flow_rate2)\n",
    "\n",
    "v = ct.Valve(SZ, downstream, K = Kv)"
   ]
  },
  {
   "cell_type": "markdown",
   "metadata": {},
   "source": [
    "Iteration of the PFR cluster"
   ]
  },
  {
   "cell_type": "markdown",
   "metadata": {},
   "source": [
    "# Join both loops together!!!"
   ]
  },
  {
   "cell_type": "code",
   "execution_count": 8,
   "metadata": {},
   "outputs": [],
   "source": [
    "sim2 = ct.ReactorNet([SZ])\n",
    "\n",
    "# define time, space, and other information vectors\n",
    "z2 = (np.arange(N) + 1) * dz\n",
    "t_SZ = np.zeros_like(z2)  # residence time in each reactor\n",
    "u2 = np.zeros_like(z2)\n",
    "t2 = np.zeros_like(z2)\n",
    "states2 = ct.SolutionArray(SZ.thermo)\n",
    "# iterate through the PFR cells\n",
    "for n in range(N):\n",
    "    # Set the state of the reservoir to match that of the previous reactor\n",
    "    co2.TDY = SZ.thermo.TDY\n",
    "    upstream.syncState()\n",
    "    # integrate the reactor forward in time until steady state is reached\n",
    "    sim2.reinitialize()\n",
    "    sim2.advance_to_steady_state(1000)\n",
    "    # compute velocity and transform into time\n",
    "    u2[n] = mass_flow_rate2 / (Dc**2 * math.pi / 4) / SZ.thermo.density\n",
    "    t_SZ[n] = SZ.mass / mass_flow_rate2  # residence time in this reactor\n",
    "    t2[n] = np.sum(t_SZ)\n",
    "    # write output data\n",
    "    states2.append(SZ.thermo.state)"
   ]
  },
  {
   "cell_type": "markdown",
   "metadata": {},
   "source": [
    "Plotting"
   ]
  },
  {
   "cell_type": "code",
   "execution_count": 11,
   "metadata": {},
   "outputs": [
    {
     "data": {
      "image/png": "[encoded data removed]",
      "text/plain": [
       "<matplotlib.figure.Figure at 0x7f5cc013eba8>"
      ]
     },
     "metadata": {},
     "output_type": "display_data"
    },
    {
     "data": {
      "image/png": "[encoded data removed]",
      "text/plain": [
       "<matplotlib.figure.Figure at 0x7f5cbcd9ca20>"
      ]
     },
     "metadata": {},
     "output_type": "display_data"
    }
   ],
   "source": [
    "plt.figure()\n",
    "plt.plot(z2, states2.T)\n",
    "plt.xlabel('$z$ [m]')\n",
    "plt.ylabel('$T$ [K]')\n",
    "plt.axis([0, 1.2, 0, 3000])\n",
    "plt.show()\n",
    "#plt.savefig('pfr_T_z.png')\n",
    "\n",
    "plt.figure()\n",
    "plt.plot(t2, states2.X[:, co2.species_index('CH4')])\n",
    "plt.xlabel('$t$ [s]')\n",
    "plt.ylabel('$X_{CH_4}$ [-]')\n",
    "plt.axis([0, 1.2, 0, 1])\n",
    "plt.show()\n",
    "#plt.savefig('pfr_XH2_t.png')"
   ]
  },
  {
   "cell_type": "code",
   "execution_count": null,
   "metadata": {
    "collapsed": true
   },
   "outputs": [],
   "source": []
  }
 ],
 "metadata": {
  "kernelspec": {
   "display_name": "Python 3",
   "language": "python",
   "name": "python3"
  },
  "language_info": {
   "codemirror_mode": {
    "name": "ipython",
    "version": 3
   },
   "file_extension": ".py",
   "mimetype": "text/x-python",
   "name": "python",
   "nbconvert_exporter": "python",
   "pygments_lexer": "ipython3",
   "version": "3.6.3"
  }
 },
 "nbformat": 4,
 "nbformat_minor": 2
}
