{
 "cells": [
  {
   "cell_type": "markdown",
   "metadata": {},
   "source": [
    "# Gas turbine combustor in Cantera using constant volume reactor"
   ]
  },
  {
   "cell_type": "markdown",
   "metadata": {},
   "source": [
    "Description:"
   ]
  },
  {
   "cell_type": "markdown",
   "metadata": {},
   "source": [
    "What to explain in my paper:\n",
    "GRI 3.0 Mechanism\n",
    "PFR Reactor\n",
    "Gas Turbine Combustor\n",
    "How does Cantera calculate"
   ]
  },
  {
   "cell_type": "markdown",
   "metadata": {},
   "source": [
    "Sources:\n",
    "-Cantera documentation and code examples:\n",
    "https://www.cantera.org/docs/sphinx/html/reactors.html\n",
    "https://www.cantera.org/docs/sphinx/html/cython/examples/reactors_combustor.html#py-example-combustor-py\n",
    "https://www.cantera.org/docs/sphinx/html/cython/examples/reactors_pfr.html#py-example-pfr-py"
   ]
  },
  {
   "cell_type": "markdown",
   "metadata": {},
   "source": [
    "Importing necessery libraries"
   ]
  },
  {
   "cell_type": "code",
   "execution_count": null,
   "metadata": {
    "collapsed": true
   },
   "outputs": [],
   "source": [
    "import math\n",
    "import csv\n",
    "import cantera as ct\n",
    "import numpy as np\n",
    "import matplotlib.pyplot as plt"
   ]
  },
  {
   "cell_type": "markdown",
   "metadata": {},
   "source": [
    "Input parameters"
   ]
  },
  {
   "cell_type": "code",
   "execution_count": null,
   "metadata": {
    "collapsed": true
   },
   "outputs": [],
   "source": [
    "T_0_air = 600.0  # air inlet temperature [K]\n",
    "T_0_methane = 283.0 # methane inlet temparute [K]\n",
    "pressure = 2500000.0  # constant pressure [Pa]\n",
    "length = 5e-4  # FR length [m]\n",
    "u_0 = 1.0  # inflow velocity [m/s]\n",
    "area = 3.14e-4  # cross-sectional area [m**2] kolo 20 cm srednicy\n",
    "\n",
    "# Resolution: The PFR will be simulated by 'by a chain of 'n_steps' stirred reactors.\n",
    "n_steps = 10000"
   ]
  },
  {
   "cell_type": "code",
   "execution_count": null,
   "metadata": {
    "collapsed": true
   },
   "outputs": [],
   "source": [
    "Body"
   ]
  },
  {
   "cell_type": "code",
   "execution_count": null,
   "metadata": {
    "collapsed": true
   },
   "outputs": [],
   "source": [
    "# use reaction mechanism GRI-Mech 3.0\n",
    "\n",
    "gas = ct.Solution('gri30.xml')\n",
    "\n",
    "# create a reservoir for the fuel inlet, and set to pure methane.\n",
    "gas.TPX = 300.0, ct.one_atm, 'CH4:1.0'\n",
    "fuel_in = ct.Reservoir(gas)\n",
    "fuel_mw = gas.mean_molecular_weight\n",
    "\n",
    "# use predefined function Air() for the air inlet\n",
    "air = ct.Solution('air.xml')\n",
    "air_in = ct.Reservoir(air)\n",
    "air_mw = air.mean_molecular_weight\n",
    "\n",
    "# to ignite the fuel/air mixture, we'll introduce a pulse of radicals. The\n",
    "# steady-state behavior is independent of how we do this, so we'll just use a\n",
    "# stream of pure atomic hydrogen.\n",
    "gas.TPX = 300.0, ct.one_atm, 'H:1.0'\n",
    "igniter = ct.Reservoir(gas)\n",
    "\n",
    "# create the combustor, and fill it in initially with N2\n",
    "gas.TPX = 300.0, ct.one_atm, 'N2:1.0'\n",
    "combustor = ct.IdealGasReactor(gas)\n",
    "combustor.volume = 1.0\n",
    "\n",
    "# create a reservoir for the exhaust\n",
    "exhaust = ct.Reservoir(gas)\n",
    "\n",
    "# lean combustion, phi = 0.5\n",
    "equiv_ratio = 0.5\n",
    "\n",
    "# compute fuel and air mass flow rates\n",
    "factor = 0.1\n",
    "air_mdot = factor * 9.52 * air_mw\n",
    "fuel_mdot = factor * equiv_ratio * fuel_mw\n",
    "\n",
    "# create and install the mass flow controllers. Controllers m1 and m2 provide\n",
    "# constant mass flow rates, and m3 provides a short Gaussian pulse only to\n",
    "# ignite the mixture\n",
    "m1 = ct.MassFlowController(fuel_in, combustor, mdot=fuel_mdot)\n",
    "\n",
    "# note that this connects two reactors with different reaction mechanisms and\n",
    "# different numbers of species. Downstream and upstream species are matched by\n",
    "# name.\n",
    "m2 = ct.MassFlowController(air_in, combustor, mdot=air_mdot)\n",
    "\n",
    "# The igniter will use a Gaussian time-dependent mass flow rate.\n",
    "fwhm = 0.2\n",
    "amplitude = 0.1\n",
    "t0 = 1.0\n",
    "igniter_mdot = lambda t: amplitude * math.exp(-(t-t0)**2 * 4 * math.log(2) / fwhm**2)\n",
    "m3 = ct.MassFlowController(igniter, combustor, mdot=igniter_mdot)\n",
    "\n",
    "# put a valve on the exhaust line to regulate the pressure\n",
    "v = ct.Valve(combustor, exhaust, K=1.0)\n",
    "\n",
    "# the simulation only contains one reactor\n",
    "sim = ct.ReactorNet([combustor])\n"
   ]
  },
  {
   "cell_type": "code",
   "execution_count": null,
   "metadata": {
    "collapsed": true
   },
   "outputs": [],
   "source": [
    "Plotting"
   ]
  },
  {
   "cell_type": "code",
   "execution_count": null,
   "metadata": {
    "collapsed": true
   },
   "outputs": [],
   "source": []
  }
 ],
 "metadata": {
  "kernelspec": {
   "display_name": "Python 3",
   "language": "python",
   "name": "python3"
  },
  "language_info": {
   "codemirror_mode": {
    "name": "ipython",
    "version": 3
   },
   "file_extension": ".py",
   "mimetype": "text/x-python",
   "name": "python",
   "nbconvert_exporter": "python",
   "pygments_lexer": "ipython3",
   "version": "3.6.3"
  }
 },
 "nbformat": 4,
 "nbformat_minor": 2
}
